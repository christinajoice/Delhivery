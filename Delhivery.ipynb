{
 "cells": [
  {
   "cell_type": "markdown",
   "id": "4cff39f9",
   "metadata": {},
   "source": [
    "DelhiVery"
   ]
  },
  {
   "cell_type": "code",
   "execution_count": null,
   "id": "d688d981-2694-4892-9ef6-219a8fce4945",
   "metadata": {},
   "outputs": [],
   "source": []
  }
 ],
 "metadata": {
  "kernelspec": {
   "display_name": "Python 3 (ipykernel)",
   "language": "python",
   "name": "python3"
  },
  "language_info": {
   "codemirror_mode": {
    "name": "ipython",
    "version": 3
   },
   "file_extension": ".py",
   "mimetype": "text/x-python",
   "name": "python",
   "nbconvert_exporter": "python",
   "pygments_lexer": "ipython3",
   "version": "3.11.5"
  }
 },
 "nbformat": 4,
 "nbformat_minor": 5
}
